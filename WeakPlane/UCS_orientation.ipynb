{
 "cells": [
  {
   "cell_type": "code",
   "execution_count": 7,
   "metadata": {},
   "outputs": [],
   "source": [
    "import ogs\n",
    "import vtuIO\n",
    "import numpy as np\n",
    "import matplotlib.pyplot as plt\n",
    "import seaborn as sns\n",
    "plt.rcParams.update({'font.size': 16})"
   ]
  },
  {
   "cell_type": "code",
   "execution_count": 8,
   "metadata": {},
   "outputs": [],
   "source": [
    "betas = np.linspace(0,np.pi/2,45)"
   ]
  },
  {
   "cell_type": "code",
   "execution_count": 9,
   "metadata": {},
   "outputs": [
    {
     "name": "stdout",
     "output_type": "stream",
     "text": [
      "OGS finished\n",
      "./triax_0.pvd\n",
      "OGS finished\n",
      "./triax_0.pvd\n",
      "OGS finished\n",
      "./triax_0.pvd\n",
      "OGS finished\n",
      "./triax_0.pvd\n",
      "OGS finished\n",
      "./triax_0.pvd\n",
      "OGS finished\n",
      "./triax_0.pvd\n",
      "OGS finished\n",
      "./triax_0.pvd\n",
      "OGS finished\n",
      "./triax_0.pvd\n",
      "OGS finished\n",
      "./triax_0.pvd\n",
      "OGS finished\n",
      "./triax_0.pvd\n",
      "OGS finished\n",
      "./triax_0.pvd\n",
      "OGS finished\n",
      "./triax_0.pvd\n",
      "OGS finished\n",
      "./triax_0.pvd\n",
      "OGS finished\n",
      "./triax_0.pvd\n",
      "OGS finished\n",
      "./triax_0.pvd\n",
      "OGS finished\n",
      "./triax_0.pvd\n",
      "OGS finished\n",
      "./triax_0.pvd\n",
      "OGS finished\n",
      "./triax_0.pvd\n",
      "OGS finished\n",
      "./triax_0.pvd\n",
      "OGS finished\n",
      "./triax_0.pvd\n",
      "OGS finished\n",
      "./triax_0.pvd\n",
      "OGS finished\n",
      "./triax_0.pvd\n",
      "OGS finished\n",
      "./triax_0.pvd\n",
      "OGS finished\n",
      "./triax_0.pvd\n",
      "OGS finished\n",
      "./triax_0.pvd\n",
      "OGS finished\n",
      "./triax_0.pvd\n",
      "OGS finished\n",
      "./triax_0.pvd\n",
      "OGS finished\n",
      "./triax_0.pvd\n",
      "OGS finished\n",
      "./triax_0.pvd\n",
      "OGS finished\n",
      "./triax_0.pvd\n",
      "OGS finished\n",
      "./triax_0.pvd\n",
      "OGS finished\n",
      "./triax_0.pvd\n",
      "OGS finished\n",
      "./triax_0.pvd\n",
      "OGS finished\n",
      "./triax_0.pvd\n",
      "OGS finished\n",
      "./triax_0.pvd\n",
      "OGS finished\n",
      "./triax_0.pvd\n",
      "OGS finished\n",
      "./triax_0.pvd\n",
      "OGS finished\n",
      "./triax_0.pvd\n",
      "OGS finished\n",
      "./triax_0.pvd\n",
      "OGS finished\n",
      "./triax_0.pvd\n",
      "OGS finished\n",
      "./triax_0.pvd\n",
      "OGS finished\n",
      "./triax_0.pvd\n",
      "OGS finished\n",
      "./triax_0.pvd\n",
      "OGS finished\n",
      "./triax_0.pvd\n",
      "OGS finished\n",
      "./triax_0.pvd\n"
     ]
    }
   ],
   "source": [
    "UCS = np.array([])\n",
    "pts = {\"pt0\": (0.0,0.0,0.0)}\n",
    "\n",
    "for i in betas:\n",
    "    angle = int(np.round(i*180/np.pi,0))\n",
    "    #print(\"Generating input for %i °\" %angle)\n",
    "    ofile=\"triax_\" + str(angle) + \".prj\"\n",
    "    model = ogs.OGS(INPUT_FILE=\"triax_original.prj\", PROJECT_FILE=ofile, ogs_mode=\"silent\")\n",
    "    model.replaceTxt('%.12f %.12f' %(np.cos(i),np.sin(i)), xpath=\"./parameters/parameter[name='e0']/values\")\n",
    "    model.replaceTxt('%.12f %.12f' %(-np.sin(i),np.cos(i)), xpath=\"./parameters/parameter[name='e1']/values\")\n",
    "    model.writeInput()\n",
    "    #\n",
    "    #print(\"Running simulation\")\n",
    "    model.runModel(path='~/ogs_release/bin')\n",
    "    #\n",
    "    #print(\"Getting results\")\n",
    "    pvd = vtuIO.PVDIO(\".\", \"triax_0.pvd\", dim=2)\n",
    "    results = {}\n",
    "    results[\"AxialStress\"] = pvd.readTimeSeries(\"sigma\", pts=pts)\n",
    "    ucs = results['AxialStress']['pt0'].T[1][-1]\n",
    "    UCS = np.append(UCS,-ucs)\n",
    "    #print(\"Removing created input\")\n",
    "    !rm $ofile"
   ]
  },
  {
   "cell_type": "code",
   "execution_count": 10,
   "metadata": {},
   "outputs": [
    {
     "data": {
      "image/png": "[encoded data removed]",
      "text/plain": [
       "<Figure size 864x432 with 1 Axes>"
      ]
     },
     "metadata": {
      "needs_background": "light"
     },
     "output_type": "display_data"
    }
   ],
   "source": [
    "fig, ax = plt.subplots(figsize=(12,6))\n",
    "ax.plot(np.rad2deg(betas),UCS/1.e3,marker='d')\n",
    "ax.set_xlabel('$\\\\beta$ / °')\n",
    "ax.set_ylabel('$\\\\sigma_\\\\mathrm{c}$ / kPa')\n",
    "fig.tight_layout();"
   ]
  },
  {
   "cell_type": "code",
   "execution_count": null,
   "metadata": {},
   "outputs": [],
   "source": []
  }
 ],
 "metadata": {
  "kernelspec": {
   "display_name": "Python 3",
   "language": "python",
   "name": "python3"
  },
  "language_info": {
   "codemirror_mode": {
    "name": "ipython",
    "version": 3
   },
   "file_extension": ".py",
   "mimetype": "text/x-python",
   "name": "python",
   "nbconvert_exporter": "python",
   "pygments_lexer": "ipython3",
   "version": "3.8.6"
  }
 },
 "nbformat": 4,
 "nbformat_minor": 4
}
