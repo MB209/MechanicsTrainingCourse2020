{
 "cells": [
  {
   "cell_type": "markdown",
   "metadata": {},
   "source": [
    "# Benchmark EFP vs. LIE"
   ]
  },
  {
   "cell_type": "code",
   "execution_count": 1,
   "metadata": {},
   "outputs": [],
   "source": [
    "#! /opt/anaconda/bin/ python3.8\n",
    "import math\n",
    "from ogs6py.ogs import OGS\n",
    "import vtuIO\n",
    "import numpy as np\n",
    "import matplotlib.pyplot as plt\n",
    "import seaborn as sns #für Farb en\n",
    "plt.rcParams.update({'font.size': 16})"
   ]
  },
  {
   "cell_type": "code",
   "execution_count": 2,
   "metadata": {},
   "outputs": [],
   "source": [
    "#Reading the OGS project files:\n",
    "model_lie=OGS(INPUT_FILE=\"single_fracture_LIE.prj\", PROJECT_FILE=\"single_fracture_LIE.prj\")\n",
    "model_efp=OGS(INPUT_FILE=\"single_fracture_EFP.prj\", PROJECT_FILE=\"single_fracture_EFP.prj\")\n",
    "model_list=(model_lie,model_efp)"
   ]
  },
  {
   "cell_type": "markdown",
   "metadata": {},
   "source": [
    "# Introduction\n",
    "\n",
    "The following benchmark test is conducted as a validation of the recently created Embedded Fracture Permeability (EFP) approach being implemented by Zill (2021) in OpenGeoSys (OGS). The EFP is compared to the method of Lower-dimensional Interface Elements (LIE) which represents fractures by inlcuding them inside a continuous element mesh (Watanabe et al.,2012). Its validation with a semi-analystical solution is illustrated in Watanabe (2011).\n",
    "Furthermore, the LIE modelling approach was already applied by Cacae et al. (2013) at the modeling of fracture dominated flow at the Traunreuth deep geothermal project. Consequently it is a suitable model for confirming the applicability of the EFM for fracture dominated reservoir models.\n",
    "\n",
    "In order to create a conclusive benchmark, a simple hydro-mechanical (HM) coupled problem of a pre-existing 2D single fracture is chosen. The fracture is located symmetrically within a $\\Delta\\text{y}=1\\,\\text{m}$ wide rock matrix and has a horizontal extension of $\\Delta\\text{x}=25 \\,\\text{m}$, as to be seen in Fig.1.\n",
    "\n",
    "\n",
    "<center>\n",
    "<figure>\n",
    "      <img src=\"img/01_Benchmark.jpg\" alt=\"Benchmark\" style=\"width:80%\">\n",
    "      <figcaption style=\"line-height:1.5;width:80%\" >  \n",
    "        Fig.1: Schematic geometries for fluid flow through a single fracture being conducted in the LIE and the EFP model. (Adapted from Watanabe, 2011)\n",
    "     </figcaption>\n",
    "</center>\n",
    "</figure>\n"
   ]
  },
  {
   "cell_type": "markdown",
   "metadata": {},
   "source": [
    "# Parametrisation\n",
    "\n",
    "## Permeability approach\n",
    "\n",
    "Comparing the EFP to the LIE model in Fig.1.,  the relationship of $s \\gg b $ applies for the thickness of the embedded fracture zone $s$. That is because it is inconvenient to mesh tiny finite elements with an element side length of $b$.\n",
    "Therefore, in order to achieve a similar pressure response within both models, an equivalent transmissibility $T$ is applied. It means that the isotropic permeability $k$ is integrated over the thickness of the homogeneous reservoir normal to the flow direction to ensure an equal mass flow $\\dot m^f=\\text{const.}$.\n",
    "\n",
    "In general, both models apply the cubic law for the fracture permeability\n",
    "\n",
    "$$\n",
    "k_\\text{F}=\\frac{b^2}{12}\n",
    "$$\n",
    "\n",
    "Being applied at the LIE model, $T_\\text{LIE}$ reads as\n",
    "\n",
    "$$\n",
    "T_\\text{LIE}=k_\\text{F} \\, b = \\frac{b^2}{12}\\, b\n",
    "$$\n",
    "\n",
    "In comparison, the equivalent continuum approach in Fig.2. illustrtates, how the transmissibility $T$ derives for the EFP model in $x$-direction from\n",
    "\n",
    "$$\n",
    "  T_\\text{EFP} = k \\, s \\qquad  \\text{with} \\qquad k = k_\\text{M}+\\frac{b}{a}\\,k_\\text{F}\n",
    "$$\n",
    "\n",
    "<center>\n",
    "<figure>\n",
    "      <img src=\"img/02_embedded_fracs.jpg\" alt=\"Benchmark\" style=\"width:80%\">\n",
    "       <figcaption style=\"line-height:1.5;width:80%\" >  \n",
    "        Fig.2.: In the EFP, a finite matrix element with a set of embedded fractures is parametrized by the element thickness $s$ in normal direction $y$ of the fault plane and a continuous spacing $a$. The fracture aperture is determined by $b$. (Adapted from Olivella et al., 2008, p.3)\n",
    "     </figcaption>\n",
    "</figure>\n",
    "</center>\n",
    "\n",
    "The total permeability $k$ of the embedded fracture zone consists of the intrinsic matrix permeability $k_\\text{M}$, the ratio of $b$ and the mean fracture distance $a$ as well as the fracture permeability $k_\\text{F}$. $k_\\text{M}$ is assumed to be nearly impermeable for the current benchmark example. In additon, there applies $s=a$ due to the existance of only one fracture in the benchmark. The formulation of $T_\\text{EFP}$ simplifies therefore to\n",
    "$$\n",
    "T_\\text{EFP}=\\frac{b^2}{12}\\,b\n",
    "$$\n",
    "\n",
    "\n",
    "The comparison reveals that the initial apertures $b_\\text{0}$ of LIE and EFP must be equal. While the initial aperture $b_\\text{0}$ is a direct input parameter in LIE, $b_\\text{0}$ is chosen to be applied in the EFP via the threshold strain $\\epsilon_\\text{0}$ regarding the relationship\n",
    "\n",
    "$$\n",
    "b(t=0)=b_\\text{0} + a \\, \\langle \\epsilon_\\text{n}-\\epsilon_\\text{0} \\rangle\n",
    "$$\n",
    "The normal strain $\\epsilon_\\text{n}$ and the initial aperture $b_\\text{0}$ are assumed to be zero at the initial stage. Hence, the aperture at the initial stage is implemented as\n",
    "\n",
    "$$\n",
    "\\epsilon_\\text{0}= -\\frac{b(t=0)}{a}\n",
    "$$\n",
    "\n",
    "The respective parameters are defined and implemented as follows:"
   ]
  },
  {
   "cell_type": "code",
   "execution_count": 3,
   "metadata": {},
   "outputs": [
    {
     "name": "stdout",
     "output_type": "stream",
     "text": [
      " b=  1.00e-05 for t=0 \n",
      " a=  1.00e-03 \n",
      " e0=-1.00e-02   \n"
     ]
    },
    {
     "data": {
      "text/plain": [
       "True"
      ]
     },
     "execution_count": 3,
     "metadata": {},
     "output_type": "execute_result"
    }
   ],
   "source": [
    "k_m = 1e-21  #intrinsic permeability\n",
    "b   = 1e-5   #aperture at t=0\n",
    "b0  = 0      #initial aperture\n",
    "a   = 1e-3   #Mean fracture distance\n",
    "e0  = -b/a   #Threshold strain\n",
    "\n",
    "#Applying parameters\n",
    "#LIE\n",
    "model_lie.replaceParameter(name=\"k\",value=k_m)\n",
    "model_lie.replaceParameter(name=\"b\",value=b)\n",
    "#EFP\n",
    "model_efp.replaceTxt(k_m, xpath=\"./media/medium/properties/property[name='permeability']/intrinsic_permeability\")\n",
    "model_efp.replaceTxt(b0, xpath=\"./media/medium/properties/property[name='permeability']/initial_aperture\")\n",
    "model_efp.replaceTxt(a, xpath=\"./media/medium/properties/property[name='permeability']/mean_frac_distance\")\n",
    "model_efp.replaceTxt(e0, xpath=\"./media/medium/properties/property[name='permeability']/threshold_strain\")\n",
    "\n",
    "print(' b=  %.2e for t=0 \\n a=  %.2e \\n e0=%.2e   '%(b,a,e0))\n",
    "\n",
    "model_efp.writeInput()\n",
    "model_lie.writeInput()"
   ]
  },
  {
   "cell_type": "markdown",
   "metadata": {},
   "source": [
    "## Storage and Compressibility\n",
    "\n",
    "In the EFP modelling approach, the storage term is calculated via the input parameters fluid compressibility $\\kappa^\\mathrm{f}_\\text{R}$ and the real compressibility of the solid $\\kappa^\\mathrm{s}_\\text{R}$. <br>\n",
    "$\\kappa^\\mathrm{f}_\\text{R}$ is implemented via the pressure dependent fluid density\n",
    "\n",
    "$$\n",
    "\\rho^\\mathrm{f}_\\text{R} (p^\\mathrm{f})= \\rho^\\mathrm{f}_\\text{ref} \\left ( 1 +  \\kappa^\\mathrm{f}_\\text{R} \\left (  p^\\mathrm{f}_\\text{R} - p^\\mathrm{f}_\\text{ref} \\right ) \\right )\n",
    "$$\n",
    "\n",
    "\n",
    "Furthermore, $\\kappa^\\mathrm{s}_\\text{R}$ is calculated via the Biot-Willis coefficient $\\alpha_\\text{B}$, the drained bulk modulus of the grain skeleton $K^\\mathrm{s}$, Young's modulus of the matrix $E_\\text{M}$ and Poisson's ratio $\\nu$ \n",
    "\n",
    "$$\n",
    "\\kappa^\\mathrm{s}_\\text{R} = \\frac{1-\\alpha_\\text{B}}{K^\\mathrm{s}}  \\qquad \\text{where} \\qquad K^\\mathrm{s} = \\frac{E_\\text{M}}{3 \\, (1-2\\,\\nu)} \\qquad \\text{applies.}\n",
    "$$\n",
    "\n",
    "On the other hand, the LIE model uses the specific storage $S_\\text{s}$ as input parameter which is calculated from \n",
    "\n",
    "$$\n",
    "S_\\text{s} = \\left (  \\left (  \\alpha_\\text{B} - \\phi  \\right ) \\, \\kappa^\\mathrm{s}_\\text{R} + \\phi \\, \\kappa^\\mathrm{f}_\\text{R} \\right )\n",
    "$$\n",
    "\n",
    "where $\\phi$ is the porosity of the porous medium. The fluid viscosity $\\mu^\\mathrm{f}$ is implemented as a constant parameter in both models,.\n",
    "\n",
    "<br>\n",
    "\n",
    "## Equivalent joint normal stiffness\n",
    "\n",
    "The LIE model uses the joint normal stiffness $K_\\text{n}$ and the joint shear stiffness $K_\\text{s}$ as elastic parameters for dertermining the mechanical fracture behaviour. For the EFP, $K_\\text{n}$ is implemented via an equivalent Young's modulus $E_\\text{RM}$ for the embedded fracture zone as being derived by Gerrard (1982):\n",
    "\n",
    "$$\n",
    " \\frac{1}{E_\\text{RM}}=\\frac{1}{E_\\text{M}}+\\frac{1}{K_\\text{n}\\,a}\n",
    "$$\n",
    "\n",
    "The joint shear stiffness $K_\\text{s}$ is not considered in the present benchmark."
   ]
  },
  {
   "cell_type": "code",
   "execution_count": 4,
   "metadata": {},
   "outputs": [
    {
     "name": "stdout",
     "output_type": "stream",
     "text": [
      "kappa_sr = 0.000000 \n",
      "S_matrix = 1.00e-10 \n",
      "     S_f = 1.00e-10 \n",
      "    E_rm = 9.98e+07\n"
     ]
    },
    {
     "data": {
      "text/plain": [
       "True"
      ]
     },
     "execution_count": 4,
     "metadata": {},
     "output_type": "execute_result"
    }
   ],
   "source": [
    "###\n",
    "### Material Parametrisation\n",
    "###\n",
    "\n",
    "#Fluid\n",
    "rho_fr      = 1e3 \n",
    "kappa_fr    = 1e-7\n",
    "mu_f        = 1e-3 #Pa s\n",
    "\n",
    "#Solid parameters\n",
    "rho_sr      = 2.716e3 #kg/m³\n",
    "a_b         = 1   #Biot-Willis\n",
    "E           = 60e9\n",
    "nu          = 0\n",
    "poro_matrix = 0.001\n",
    "\n",
    "#Fracture properties\n",
    "poro_frac   = poro_matrix # 1e-5\n",
    "Kn\t        = 1e11\n",
    "Ks\t        = 1e11\n",
    "\n",
    "###\n",
    "### Calculation\n",
    "###\n",
    "\n",
    "# Calc Storage Porous Medium LIE:\n",
    "K_S = E / (3*(1-2*nu))\n",
    "kappa_sr = (1.0 - a_b) / K_S\n",
    "S_matrix = ((a_b - poro_matrix) * kappa_sr + poro_matrix * kappa_fr)\n",
    "\n",
    "#Calc Storage Fracture LIE\n",
    "S_f = ((a_b - poro_frac) * kappa_sr + poro_frac * kappa_fr)\n",
    "\n",
    "#Calc Equiv. Young's Modulus EFP\n",
    "E_rm = (1/E + 1/a/Kn)**(-1)\n",
    "\n",
    "print(\"\\\n",
    "kappa_sr = %f \\n\\\n",
    "S_matrix = %.2e \\n\\\n",
    "     S_f = %.2e \\n\\\n",
    "    E_rm = %.2e\"%(kappa_sr,S_matrix,S_f,E_rm))\n",
    "\n",
    "###\n",
    "### Applying Parameters\n",
    "###\n",
    "\n",
    "# Replace Parameters in LIE\n",
    "model_lie.replaceParameter(name=\"rho_fr\",   value=rho_fr)\n",
    "model_lie.replaceParameter(name=\"mu\",       value=mu_f)\n",
    "model_lie.replaceParameter(name=\"rho_sr\",   value=rho_sr)\n",
    "model_lie.replaceParameter(name=\"phi\",      value=poro_matrix)\n",
    "model_lie.replaceParameter(name=\"biot_m\",   value=a_b)\n",
    "model_lie.replaceParameter(name=\"E\",        value=\"%.2e\"%E)\n",
    "model_lie.replaceParameter(name=\"nu\",       value=nu)\n",
    "model_lie.replaceParameter(name=\"S\",value=\"%.2e\"%S_matrix)\n",
    "#Fracture\n",
    "model_lie.replaceParameter(name=\"S_f\",value=\"%.2e\"%S_f)\n",
    "model_lie.replaceParameter(name=\"biot_f\",value=a_b)\n",
    "model_lie.replaceParameter(name=\"Kn\",value=\"%.2e\"%Kn)\n",
    "model_lie.replaceParameter(name=\"Ks\",value=\"%.2e\"%Ks)\n",
    "\n",
    "# Replace Parameters in EFP\n",
    "model_efp.replaceTxt(rho_fr, xpath=\"./media/medium/phases/phase[type='Gas']/properties/property[name='density']/reference_value\")\n",
    "model_efp.replaceTxt(kappa_fr, xpath=(\"./media/medium/phases/phase[type='Gas']/properties/property[name='density']/independent_variable/slope\"))\n",
    "\n",
    "for id in (0,1):\n",
    "    model_efp.replacePhaseProperty(mediumid=id,phase=\"Gas\", name=\"viscosity\",value=mu_f)\n",
    "    model_efp.replacePhaseProperty(mediumid=id,phase=\"Solid\", name=\"density\",value=rho_sr)\n",
    "    model_efp.replaceMediumProperty(mediumid=id,name=\"biot_coefficient\",value=a_b)\n",
    "model_efp.replaceMediumProperty(mediumid=0, name=\"porosity\",value=poro_matrix)\n",
    "model_efp.replaceMediumProperty(mediumid=1, name=\"porosity\",value=poro_frac)\n",
    "model_efp.replaceTxt(\"%.2e\"%E, xpath=\"./parameters/parameter[name='E']/indexvalues[index='0']/value\")\n",
    "model_efp.replaceTxt(\"%.2e\"%E_rm, xpath=\"./parameters/parameter[name='E']/indexvalues[index='1']/value\")\n",
    "model_efp.replaceParameter(name=\"nu\",value=nu)\n",
    "\n",
    "model_efp.writeInput()\n",
    "model_lie.writeInput()"
   ]
  },
  {
   "cell_type": "markdown",
   "metadata": {},
   "source": [
    "<br>\n",
    "\n",
    "## Overview Material parametrisation\n",
    "\n",
    "| Material |                          LIE Model \t\t\t   ||            EFP Model       |                                                              |\n",
    "| -------: | ---------------------------------: | ------------ | -------------------------: | :------------------------------------------------------------ |\n",
    "| **Fluid** | Density $\\rho^\\mathrm{f}_\\text{R}$ | 1 000 kg m⁻³ |  | $\\rho^\\mathrm{f}_\\text{R}$ = $\\rho^\\mathrm{f}_\\text{R,0}\\,(1+\\kappa^\\mathrm{f}_\\text{R})$ <p style=\"margin-left: 40px\"> with $\\rho^\\mathrm{f}_\\text{R,0}$ = 1000 kg m⁻³ <br/> and $\\kappa^\\mathrm{f}_\\text{R} $ = $1\\times 10^{-7}$ Pa⁻¹ <p> |\n",
    "|          |         Viscosity $\\mu^\\mathrm{f}$ | 0.1 mPa s    |           $\\mu^\\mathrm{f}$ |       0.1 mPa s                                                       |\n",
    "|  <br>        |                                    |              |                            |                                                              |\n",
    "| **Matrix** | Density $\\rho^\\mathrm{s}_\\text{R}$ | 2 716 kg m⁻³ | $\\rho^\\mathrm{s}_\\text{R}$ | 2 716 kg m⁻³ |\n",
    "|          | Spec. Storage $S_\\text{S}$ | 1$\\,\\times\\,$10⁻¹⁰ Pa |  | considered via $\\kappa^\\mathrm{f}_\\text{R}$ |\n",
    "|          | Biot-Willis $\\alpha_\\text{B}$ | 1 | $\\alpha_\\text{B}$ | 1 |\n",
    "|          | Matrix permeability $k_\\text{M}$ | 1$\\,\\times\\,$10⁻²¹ m² | $k_\\text{M}$ | 1$\\,\\times\\,$10⁻²¹ m² |\n",
    "|          | Porosity $\\phi$ | 1$\\,\\times\\,$10⁻³ | $\\phi$ | 1$\\,\\times\\,$10⁻³ |\n",
    "|          | Young’s modulus $E_\\text{M}$ | 60$\\,\\times\\,$10⁶ Pa | $E_\\text{M}$ | 60$\\,\\times\\,$10⁶ Pa |\n",
    "|          | Poisson’s ratio $\\nu$ | 0 | $\\nu$ | 0 |\n",
    "|    <br>      |                                    |              |                            |                                                              |\n",
    "| **Fracture** | Initial aperture $b_\\text{0}$ | 1$\\,\\times\\,$10⁻⁵ | $b_\\text{0}$ | 1$\\,\\times\\,$10⁻⁵ |\n",
    "|          | Mean frac dist $a$ | n.a. | $a$ | 1$\\,\\times\\,$10⁻³ m |\n",
    "|          | Threshold strain $\\epsilon_\\text{0}$ | n.a. | $\\epsilon_\\text{0}$ | -1$\\,\\times\\,$10⁻² mm⁻¹ |\n",
    "|          | Spec. Storage $S_\\text{S}$ | 1$\\,\\times\\,$10⁻¹² |                            | considered via  $\\kappa^\\mathrm{f}_\\text{R}$ and $\\phi$|\n",
    "|          | Biot-Willis $\\alpha_\\text{B}$ | 1                   |          $\\alpha_\\text{B}$ | 1 |\n",
    "|          | Joint norm. stiffn. $K_\\text{n}$ | 1$\\,\\times\\,$10¹¹ Pa | $K_\\text{n}$ | considered via euqiv. Young’s modulus <br> $E_\\text{RM}$ = 9.89$\\,\\times\\,$10⁷ Pa |\n",
    "|      | Joint sear stiffn. $K_\\text{s}$ | 1$\\,\\times\\,$10¹¹ Pa |      | n.a. |"
   ]
  },
  {
   "cell_type": "markdown",
   "metadata": {},
   "source": [
    "## Initial conditions and boundary conditions\n",
    "\n",
    "The initial setup has a displacement of $u_\\text{0} = 0$ in all directions for both models. Regarding the fluid pressure, the LIE model is subjected to an initial fluid pressure of $ p^\\text{f}_\\mathrm{R,0} = 11.0\\,\\times\\,10⁶ \\,\\text{Pa}$. Furthermore, a uniform line load of $\\sigma_{yy}=-50 \\,\\times\\,10⁶ \\,\\text{Pa}$ is applied on its top boundary what results in an effective stress of $\\sigma_{E,yy}=-39\\,\\times\\,10⁶ \\,\\text{Pa}$ in $y$-direction. On the contrary, the EFP model is calculated with relative stress values which leads to a parametrisation of $ p^\\text{f}_\\mathrm{R,0} = 0 \\,\\text {Pa}$ and $\\sigma_{yy}=0 \\,\\text{Pa}$ at the initial stage.\n",
    "\n",
    "In addition, a hydraulic flow rate is applied at the inlet. For the LIE, the flow rate is applied as a volumetric flow rate $\\dot Q^\\mathrm{f}= \\dot m^\\mathrm{f} / \\rho^\\mathrm{f}_\\text{R}$ on the fracture inlet while it is applied as a mass flow rate $\\dot m^\\mathrm{f}$ per boundary length $s$ in the EFP model.\n",
    "\n",
    "At $ t=1000 \\,\\text{s} $, the hydraulic flow is reversed which changes the flow regime from injection to production. "
   ]
  },
  {
   "cell_type": "code",
   "execution_count": 5,
   "metadata": {},
   "outputs": [
    {
     "name": "stdout",
     "output_type": "stream",
     "text": [
      "Time coordinates: 1 1000 1001 2000\n",
      "Curve Values EFP: 3.00e-08 3.00e-08 -3.00e-08 -3.00e-08\n",
      "Curve Values LIE: 3.00e-02 3.00e-02 -3.00e-02 -3.00e-02\n"
     ]
    },
    {
     "data": {
      "text/plain": [
       "True"
      ]
     },
     "execution_count": 5,
     "metadata": {},
     "output_type": "execute_result"
    }
   ],
   "source": [
    "###\n",
    "### Pressure and Discplacement\n",
    "###\n",
    "\n",
    "#IC and BC conditions LIE\n",
    "p0_lie            = 1.1e7\n",
    "u0_lie            = \"0 0\"\n",
    "sigma_yy_lie      = -5.00e+07\n",
    "sigma0_E_yy_lie   = \"0 %.2e 0 0\"%(sigma_yy_lie+p0_lie)\n",
    "sigma0_E_frac_lie = \"0 %.2e\"%(sigma_yy_lie+p0_lie)\n",
    "\n",
    "#IC and BC conditions EFP\n",
    "p0_efp            = 0\n",
    "u0_efp            = u0_lie\n",
    "sigma_yy_efp      = 0\n",
    "sigma0_E_yy_efp   = \"0 %.2e 0 0\"%(sigma_yy_efp+p0_efp)\n",
    "\n",
    "###\n",
    "### Hydraulic Flow BC\n",
    "###\n",
    "\n",
    "#Time coordinates\n",
    "coords = \"1 1000 1001 2000\"\n",
    "\n",
    "m_f = 3e-5\n",
    "area_parameter = 1  #1 since injection happens via a point which has no integration length\n",
    "\n",
    "q_f = m_f /rho_fr\n",
    "values_lie = \"%.2e %.2e %.2e %.2e\"%(q_f,q_f,-q_f,-q_f)\n",
    "value_efp = m_f/a\n",
    "values_efp = \"%.2e %.2e %.2e %.2e\"%(value_efp,value_efp,-value_efp,-value_efp)\n",
    "\n",
    "###\n",
    "### Applying Parameters\n",
    "###\n",
    "\n",
    "#LIE\n",
    "model_lie.replaceTxt(u0_lie, xpath=\"./parameters/parameter[name='displacement0']/values\")\n",
    "model_lie.replaceParameter(name=\"p0\",value=\"%.2e\"%p0_lie)\n",
    "model_lie.replaceParameter(name=\"load\",value=\"%.2e\"%sigma_yy_lie)\n",
    "model_lie.replaceTxt(sigma0_E_yy_lie, xpath=\"./parameters/parameter[name='effective_stress0']/values\")\n",
    "model_lie.replaceTxt(sigma0_E_frac_lie, xpath=\"./parameters/parameter[name='fracture_effective_stress0']/values\")\n",
    "\n",
    "#EFP\n",
    "model_efp.replaceTxt(u0_efp, xpath=\"./parameters/parameter[name='displacement0']/values\")\n",
    "model_efp.replaceParameter(name=\"p0\",value=\"%.2e\"%p0_efp)\n",
    "model_efp.replaceParameter(name=\"load\",value=\"%.2e\"%sigma_yy_efp)\n",
    "model_efp.replaceTxt(sigma0_E_yy_efp, xpath=\"./parameters/parameter[name='effective_stress0']/values\")\n",
    "\n",
    "#LIE and EFP\n",
    "for model,values in zip(model_list,(values_lie,values_efp)):\n",
    "    model.replaceTxt(coords, xpath=\"./curves/curve[name='curve_q_in']/coords\")\n",
    "    model.replaceTxt(values, xpath=\"./curves/curve[name='curve_q_in']/values\")\n",
    "    model.writeInput()\n",
    "\n",
    "print(\"Time coordinates: \"+coords)\n",
    "print(\"Curve Values EFP: \"+values_lie)\n",
    "print(\"Curve Values LIE: \"+values_efp)\n",
    "\n",
    "model_efp.writeInput()\n",
    "model_lie.writeInput()"
   ]
  },
  {
   "cell_type": "markdown",
   "metadata": {},
   "source": [
    "## Time Stepping\n",
    "The total test length `t_end` is supposed to be $t=2000 \\text{s}$. Depending on the step length `delta_t`, the amount of steps `repeat` is calculated."
   ]
  },
  {
   "cell_type": "code",
   "execution_count": 6,
   "metadata": {},
   "outputs": [
    {
     "data": {
      "text/plain": [
       "True"
      ]
     },
     "execution_count": 6,
     "metadata": {},
     "output_type": "execute_result"
    }
   ],
   "source": [
    "# Length of the \n",
    "t_end   = 2000\n",
    "delta_t = 100\n",
    "repeat  = \"%i\"%(t_end/delta_t)\n",
    "\n",
    "for model in model_list:\n",
    "    model.replaceTxt(t_end,xpath=\"./time_loop/processes/process/time_stepping[type='FixedTimeStepping']/t_end\")\n",
    "    model.replaceTxt(repeat,xpath=\"./time_loop/processes/process/time_stepping[type='FixedTimeStepping']/timesteps/pair/repeat\")\n",
    "    model.replaceTxt(delta_t,xpath=\"./time_loop/processes/process/time_stepping[type='FixedTimeStepping']/timesteps/pair/delta_t\")\n",
    "\n",
    "model_efp.writeInput()\n",
    "model_lie.writeInput()"
   ]
  },
  {
   "cell_type": "markdown",
   "metadata": {},
   "source": [
    "# Run Models\n",
    "Please enter your local OGS build-path at `PATH_OGS`. The output of OGS can be found in the `out`-file in the current directory.\n"
   ]
  },
  {
   "cell_type": "code",
   "execution_count": 7,
   "metadata": {},
   "outputs": [
    {
     "name": "stdout",
     "output_type": "stream",
     "text": [
      "OGS finished with project file single_fracture_LIE.prj.\n",
      "Execution took 16.123030424118042 s\n",
      "OGS finished with project file single_fracture_EFP.prj.\n",
      "Execution took 43.811633348464966 s\n"
     ]
    }
   ],
   "source": [
    "PATH_OGS=\"/home/mok/ogs_release/bin/\"\n",
    "model_lie.runModel(path=PATH_OGS)\n",
    "model_efp.runModel(path=PATH_OGS)"
   ]
  },
  {
   "cell_type": "markdown",
   "metadata": {},
   "source": [
    "# Postprocessing"
   ]
  },
  {
   "cell_type": "code",
   "execution_count": 8,
   "metadata": {},
   "outputs": [
    {
     "name": "stdout",
     "output_type": "stream",
     "text": [
      "./single_fracture_EFP.pvd\n",
      "./single_fracture_LIE_.pvd\n"
     ]
    }
   ],
   "source": [
    "import vtuIO\n",
    "pvd_efp = vtuIO.PVDIO(\".\",\"single_fracture_EFP.pvd\",interpolation_method=\"nearest\", dim=2)\n",
    "pvd_lie = vtuIO.PVDIO(\".\",\"single_fracture_LIE_.pvd\",interpolation_method=\"nearest\", dim=2)"
   ]
  },
  {
   "cell_type": "markdown",
   "metadata": {},
   "source": [
    "## Plot Point Data over Time"
   ]
  },
  {
   "cell_type": "code",
   "execution_count": 9,
   "metadata": {},
   "outputs": [],
   "source": [
    "#Punktauswahl:\n",
    "#points = {\"pt_IN\": (0,0.5,0), \"pt_OUT\": (25,0.5,0)}\n",
    "pt_in = {\"pt0\": (0.0,0.5,0.0)}\n",
    "pt_out = {\"pt25\": (25.0,0.5,0.0)}\n",
    "\n",
    "# Ergebnisdatasets:\n",
    "results_efp_in  = {}\n",
    "results_efp_out = {}\n",
    "results_lie_in  = {}\n",
    "results_lie_out = {}"
   ]
  },
  {
   "cell_type": "code",
   "execution_count": 10,
   "metadata": {},
   "outputs": [
    {
     "data": {
      "text/plain": [
       "{'pt0': array([       0.        ,   247929.30876779,   347934.47045908,\n",
       "          413059.18309851,   462910.20012661,   503834.25511861,\n",
       "          538803.31618057,   569478.06512961,   596889.92674417,\n",
       "          621727.47810961,   644475.38695849,   341428.2691405 ,\n",
       "          155449.04970232,   -14171.01695198,  -196597.65844306,\n",
       "         -422526.84472224,  -743185.90970304, -1192494.56925589,\n",
       "        -1741103.88792796, -2385540.19287182, -3207536.18918723])}"
      ]
     },
     "execution_count": 10,
     "metadata": {},
     "output_type": "execute_result"
    }
   ],
   "source": [
    "pvd_efp.readTimeSeries(\"pressure\",pts=pt_in)"
   ]
  },
  {
   "cell_type": "code",
   "execution_count": 11,
   "metadata": {},
   "outputs": [],
   "source": [
    "results_efp_in[\"pressure\"]=pvd_efp.readTimeSeries(\"pressure\",pts=pt_in)\n",
    "results_efp_out[\"pressure\"]=pvd_efp.readTimeSeries(\"pressure\",pts=pt_out)\n",
    "\n",
    "results_lie_in[\"pressure\"]=pvd_lie.readTimeSeries(\"pressure\",pts=pt_in)  \n",
    "results_lie_out[\"pressure\"]=pvd_lie.readTimeSeries(\"pressure\",pts=pt_out)"
   ]
  },
  {
   "cell_type": "code",
   "execution_count": 14,
   "metadata": {},
   "outputs": [
    {
     "data": {
      "text/plain": [
       "''"
      ]
     },
     "execution_count": 14,
     "metadata": {},
     "output_type": "execute_result"
    },
    {
     "data": {
      "image/png": "[encoded data removed]",
      "text/plain": [
       "<Figure size 864x432 with 1 Axes>"
      ]
     },
     "metadata": {
      "needs_background": "light"
     },
     "output_type": "display_data"
    },
    {
     "data": {
      "image/png": "[encoded data removed]",
      "text/plain": [
       "<Figure size 864x432 with 1 Axes>"
      ]
     },
     "metadata": {
      "needs_background": "light"
     },
     "output_type": "display_data"
    }
   ],
   "source": [
    "lie_points=(results_lie_in['pressure']['pt0'],results_lie_out['pressure']['pt25'])\n",
    "efp_points=(results_efp_in['pressure']['pt0'],results_efp_out['pressure']['pt25'])\n",
    "Title=('Pressure over Time at Inlet','Pressure over Time at Outlet')\n",
    "Figname=('Pressure_over_time_p0.png','Pressure_over_time_p25.png')\n",
    "\n",
    "for efp_points,lie_points,title,figname in zip(efp_points,lie_points,Title,Figname):\n",
    "    fig, ax = plt.subplots(figsize=(12,6))\n",
    "    ax.plot(pvd_efp.timesteps,efp_points+p0_lie,label='EFP')\n",
    "    ax.plot(pvd_lie.timesteps,lie_points,label='LIE', ls='--')\n",
    "    ax.set_xlabel('$t$ / s')\n",
    "    ax.set_ylabel('$p$ / Pa')\n",
    "    plt.title(title)\n",
    "    ax.legend()\n",
    "    # plt.ylim(1.1e7,1.15e7)\n",
    "    plt.grid()\n",
    "    fig.tight_layout()\n",
    "    plt.show\n",
    "    plt.savefig(figname,dpi=300)\n",
    ";"
   ]
  },
  {
   "cell_type": "markdown",
   "metadata": {},
   "source": [
    "## Plot Data over Line"
   ]
  },
  {
   "cell_type": "code",
   "execution_count": 16,
   "metadata": {},
   "outputs": [
    {
     "data": {
      "text/plain": [
       "''"
      ]
     },
     "execution_count": 16,
     "metadata": {},
     "output_type": "execute_result"
    },
    {
     "data": {
      "image/png": "[encoded data removed]",
      "text/plain": [
       "<Figure size 864x432 with 1 Axes>"
      ]
     },
     "metadata": {
      "needs_background": "light"
     },
     "output_type": "display_data"
    }
   ],
   "source": [
    "sns.set_palette(\"Paired\",n_colors=10)\n",
    "fig, ax = plt.subplots(figsize=(12,6))\n",
    "#Define Axis\n",
    "line_x_efp=[(i,0.5,0) for i in np.linspace(start=0.0, stop=25.0, num=51)]\n",
    "line_x_lie=[(i,0.5,0) for i in np.linspace(start=0.0, stop=25.0, num=51)]\n",
    "# Achse konvertieren zu geraden Zahlen:\n",
    "r_x = np.array(line_x_efp)[:,0]\n",
    "# print(r_x)\n",
    "#Timestep\n",
    "timesteps = [100,1000,1500,2000] #\n",
    "\n",
    "for t in timesteps:\n",
    "    results_efp_line = pvd_efp.readPointSetData(t,'pressure_interpolated', pointsetarray=line_x_efp)\n",
    "    ax.plot(r_x,results_efp_line+p0_lie,label='EFP  t=%i s'%t )\n",
    "    results_lie_line = pvd_lie.readPointSetData(t,'pressure_interpolated', pointsetarray=line_x_lie)\n",
    "    ax.plot(r_x,results_lie_line ,label='LIE   t=%i s'%t, ls='--')\n",
    "\n",
    "plt.title('Pressure over X-Axis')\n",
    "ax.set_xlabel('$x$ / m')\n",
    "ax.set_ylabel('$p$ / Pa')\n",
    "ax.legend(loc='best')\n",
    "# plt.ylim(0.9e7,1.22e7)\n",
    "plt.grid()\n",
    "fig.tight_layout()\n",
    "plt.show\n",
    "plt.savefig('Pressure_over_x_axis.png',dpi=300)\n",
    ";"
   ]
  },
  {
   "cell_type": "markdown",
   "metadata": {},
   "source": [
    "## References:\n",
    "Cacace, M., Blöcher, G., Watanabe, N., Moeck, I., Börsing, N., Scheck-Wenderoth, M., Kolditz, O., & Huenges, E. (2013). Modelling of fractured carbonate reservoirs: Outline of a novel technique via a case study from the Molasse Basin, southern Bavaria, Germany. Environmental Earth Sciences, 70(8), 3585–3602. https://doi.org/10.1007/s12665-013-2402-3\n",
    "\n",
    "Gerrard, C. M. (1982). Elastic models of rock masses having one, two and three sets of joints. International Journal of Rock Mechanics and Mining Sciences And, 19(1), 15–23. https://doi.org/10.1016/0148-9062(82)90706-9\n",
    "\n",
    "Watanabe, N., Wang, W., Taron, J., Görke, U. J., & Kolditz, O. (2012). Lower-dimensional interface elements with local enrichment: application to coupled hydro-mechanical problems in discretely fractured porous media. International Journal for Numerical Methods in Engineering, February, 1010–1034. https://doi.org/10.1002/nme.3353\n",
    "\n",
    "Watanabe, N. (2011). Hydromechanics with a fracture. https://www.opengeosys.org/docs/benchmarks/hydro-mechanics/LIE_HM.pdf\n",
    "\n",
    "Zill, F., Nest, M., Kolditz, O., & Nagel, T. (2021). Hydro-mechanical continuum modelling of hydrogen percolation through rock salt. In Preparation."
   ]
  }
 ],
 "metadata": {
  "kernelspec": {
   "display_name": "Python 3",
   "language": "python",
   "name": "python3"
  },
  "language_info": {
   "codemirror_mode": {
    "name": "ipython",
    "version": 3
   },
   "file_extension": ".py",
   "mimetype": "text/x-python",
   "name": "python",
   "nbconvert_exporter": "python",
   "pygments_lexer": "ipython3",
   "version": "3.8.6"
  }
 },
 "nbformat": 4,
 "nbformat_minor": 4
}
