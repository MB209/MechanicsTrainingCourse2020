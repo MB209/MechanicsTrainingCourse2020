{
 "cells": [
  {
   "cell_type": "code",
   "execution_count": 1,
   "metadata": {},
   "outputs": [],
   "source": [
    "import ogs\n",
    "import vtuIO\n",
    "import numpy as np\n",
    "import matplotlib.pyplot as plt\n",
    "import seaborn as sns\n",
    "plt.rcParams.update({'font.size': 16})"
   ]
  },
  {
   "cell_type": "code",
   "execution_count": 2,
   "metadata": {},
   "outputs": [],
   "source": [
    "model_mc=ogs.OGS(INPUT_FILE=\"load_test_mc_nonassociated.prj\", PROJECT_FILE=\"load_test_mc_nonassociated.prj\")\n",
    "model_dp=ogs.OGS(INPUT_FILE=\"load_test_dp_nonassociated.prj\", PROJECT_FILE=\"load_test_dp_nonassociated.prj\")"
   ]
  },
  {
   "cell_type": "code",
   "execution_count": 3,
   "metadata": {},
   "outputs": [
    {
     "data": {
      "text/plain": [
       "True"
      ]
     },
     "execution_count": 3,
     "metadata": {},
     "output_type": "execute_result"
    }
   ],
   "source": [
    "model_mc.replaceParameter(name=\"DilatancyAngle\", value=10)\n",
    "model_mc.writeInput()"
   ]
  },
  {
   "cell_type": "code",
   "execution_count": 4,
   "metadata": {},
   "outputs": [
    {
     "data": {
      "text/plain": [
       "True"
      ]
     },
     "execution_count": 4,
     "metadata": {},
     "output_type": "execute_result"
    }
   ],
   "source": [
    "model_dp.replaceParameter(name=\"DilatancyParameter\", value=0.1)\n",
    "model_dp.writeInput()"
   ]
  },
  {
   "cell_type": "code",
   "execution_count": 5,
   "metadata": {},
   "outputs": [
    {
     "name": "stdout",
     "output_type": "stream",
     "text": [
      "OGS execution not successfull. Error code:  1\n"
     ]
    },
    {
     "ename": "RuntimeError",
     "evalue": "",
     "output_type": "error",
     "traceback": [
      "\u001b[0;31m---------------------------------------------------------------------------\u001b[0m",
      "\u001b[0;31mRuntimeError\u001b[0m                              Traceback (most recent call last)",
      "\u001b[0;32m<ipython-input-5-f62f1151f976>\u001b[0m in \u001b[0;36m<module>\u001b[0;34m\u001b[0m\n\u001b[0;32m----> 1\u001b[0;31m \u001b[0mmodel_mc\u001b[0m\u001b[0;34m.\u001b[0m\u001b[0mrunModel\u001b[0m\u001b[0;34m(\u001b[0m\u001b[0mpath\u001b[0m\u001b[0;34m=\u001b[0m\u001b[0;34m'~/ogs_release/bin'\u001b[0m\u001b[0;34m)\u001b[0m\u001b[0;34m\u001b[0m\u001b[0;34m\u001b[0m\u001b[0m\n\u001b[0m",
      "\u001b[0;32m/usr/local/lib/python3.8/dist-packages/ogs6py-0.27-py3.8.egg/ogs.py\u001b[0m in \u001b[0;36mrunModel\u001b[0;34m(self, **args)\u001b[0m\n\u001b[1;32m     57\u001b[0m         \u001b[0;32melse\u001b[0m\u001b[0;34m:\u001b[0m\u001b[0;34m\u001b[0m\u001b[0;34m\u001b[0m\u001b[0m\n\u001b[1;32m     58\u001b[0m             \u001b[0mprint\u001b[0m\u001b[0;34m(\u001b[0m\u001b[0;34m\"OGS execution not successfull. Error code: \"\u001b[0m\u001b[0;34m,\u001b[0m \u001b[0mreturncode\u001b[0m\u001b[0;34m.\u001b[0m\u001b[0mreturncode\u001b[0m\u001b[0;34m)\u001b[0m\u001b[0;34m\u001b[0m\u001b[0;34m\u001b[0m\u001b[0m\n\u001b[0;32m---> 59\u001b[0;31m             \u001b[0;32mraise\u001b[0m \u001b[0mRuntimeError\u001b[0m\u001b[0;34m\u001b[0m\u001b[0;34m\u001b[0m\u001b[0m\n\u001b[0m\u001b[1;32m     60\u001b[0m \u001b[0;34m\u001b[0m\u001b[0m\n\u001b[1;32m     61\u001b[0m     \u001b[0;32mdef\u001b[0m \u001b[0m__dict2xml\u001b[0m\u001b[0;34m(\u001b[0m\u001b[0mself\u001b[0m\u001b[0;34m,\u001b[0m \u001b[0mparent\u001b[0m\u001b[0;34m,\u001b[0m \u001b[0mdictionary\u001b[0m\u001b[0;34m)\u001b[0m\u001b[0;34m:\u001b[0m\u001b[0;34m\u001b[0m\u001b[0;34m\u001b[0m\u001b[0m\n",
      "\u001b[0;31mRuntimeError\u001b[0m: "
     ]
    }
   ],
   "source": [
    "model_mc.runModel(path='~/ogs_release/bin')"
   ]
  },
  {
   "cell_type": "code",
   "execution_count": null,
   "metadata": {},
   "outputs": [],
   "source": [
    "model_dp.runModel(path='~/ogs_release/bin')"
   ]
  },
  {
   "cell_type": "code",
   "execution_count": null,
   "metadata": {},
   "outputs": [],
   "source": [
    "pvd_mc = vtuIO.PVDIO(\".\", \"load_test_mc.pvd\", dim=2)\n",
    "pvd_dp = vtuIO.PVDIO(\".\", \"load_test_dp.pvd\", dim=2)"
   ]
  },
  {
   "cell_type": "code",
   "execution_count": null,
   "metadata": {},
   "outputs": [],
   "source": [
    "pts = {\"pt0\": (1000,500,0.0)}"
   ]
  },
  {
   "cell_type": "code",
   "execution_count": null,
   "metadata": {},
   "outputs": [],
   "source": [
    "results_mc = {}\n",
    "results_dp = {}"
   ]
  },
  {
   "cell_type": "code",
   "execution_count": null,
   "metadata": {},
   "outputs": [],
   "source": [
    "results_mc[\"displacement\"] = pvd_mc.readTimeSeries(\"displacement\", pts=pts)\n",
    "results_dp[\"displacement\"] = pvd_dp.readTimeSeries(\"displacement\", pts=pts)"
   ]
  },
  {
   "cell_type": "code",
   "execution_count": null,
   "metadata": {},
   "outputs": [],
   "source": [
    "fig, ax = plt.subplots(figsize=(12,6))\n",
    "ax.plot(pvd_mc.timesteps,np.array(results_mc['displacement']['pt0']).T[0],label='MC')\n",
    "ax.plot(pvd_dp.timesteps,np.array(results_dp['displacement']['pt0']).T[0],label='DP')\n",
    "ax.set_xlabel('$t$ / s')\n",
    "ax.set_ylabel('$u_r|_{r_\\\\mathrm{i}}$ / mm')\n",
    "ax.legend()\n",
    "fig.tight_layout();"
   ]
  },
  {
   "cell_type": "code",
   "execution_count": null,
   "metadata": {},
   "outputs": [],
   "source": [
    "raxis =  [(i,500,0) for i in np.linspace(start=1000, stop=2000, num=100)]"
   ]
  },
  {
   "cell_type": "code",
   "execution_count": null,
   "metadata": {},
   "outputs": [],
   "source": [
    "sns.set_palette(\"Paired\",n_colors=10)\n",
    "fig, ax = plt.subplots(figsize=(12,6))\n",
    "for i in [0,10,20,30,40]:\n",
    "    ax.plot(np.array(raxis).T[0]/1000,pvd_mc.readPointSetData(i, 'EquivalentPlasticStrain', pointsetarray=raxis),\n",
    "            label='MC, $t = %i$ s' %i)\n",
    "    ax.plot(np.array(raxis).T[0]/1000,pvd_dp.readPointSetData(i, 'EquivalentPlasticStrain', pointsetarray=raxis),\n",
    "            label='DP, $t = %i$ s' %i, ls='--')\n",
    "\n",
    "ax.set_xlabel('$r$ / m')\n",
    "ax.set_ylabel('$\\\\epsilon_\\\\mathrm{p,eff}$')\n",
    "ax.legend()\n",
    "fig.tight_layout();"
   ]
  },
  {
   "cell_type": "code",
   "execution_count": null,
   "metadata": {},
   "outputs": [],
   "source": [
    "sns.set_palette(\"Paired\",n_colors=10)\n",
    "fig, ax = plt.subplots(figsize=(12,6))\n",
    "\n",
    "ax.plot(np.array(raxis).T[0]/1000,pvd_mc.readPointSetData(i, 'sigma', pointsetarray=raxis).T[0],\n",
    "            label='MC, $\\\\sigma_{rr}$')\n",
    "ax.plot(np.array(raxis).T[0]/1000,pvd_dp.readPointSetData(i, 'sigma', pointsetarray=raxis).T[0],\n",
    "            label='DP, $\\\\sigma_{rr}$', ls='--')\n",
    "\n",
    "ax.plot(np.array(raxis).T[0]/1000,pvd_mc.readPointSetData(i, 'sigma', pointsetarray=raxis).T[1],\n",
    "            label='MC, $\\\\sigma_{zz}$')\n",
    "ax.plot(np.array(raxis).T[0]/1000,pvd_dp.readPointSetData(i, 'sigma', pointsetarray=raxis).T[1],\n",
    "            label='DP, $\\\\sigma_{zz}$', ls='--')\n",
    "\n",
    "ax.plot(np.array(raxis).T[0]/1000,pvd_mc.readPointSetData(i, 'sigma', pointsetarray=raxis).T[2],\n",
    "            label='MC, $\\\\sigma_{\\\\theta\\\\theta}$')\n",
    "ax.plot(np.array(raxis).T[0]/1000,pvd_dp.readPointSetData(i, 'sigma', pointsetarray=raxis).T[2],\n",
    "            label='DP, $\\\\sigma_{\\\\theta\\\\theta}$', ls='--')\n",
    "\n",
    "ax.set_xlabel('$r$ / m')\n",
    "ax.set_ylabel('$\\\\sigma$ / MPa')\n",
    "ax.legend()\n",
    "fig.tight_layout();"
   ]
  }
 ],
 "metadata": {
  "kernelspec": {
   "display_name": "Python 3",
   "language": "python",
   "name": "python3"
  },
  "language_info": {
   "codemirror_mode": {
    "name": "ipython",
    "version": 3
   },
   "file_extension": ".py",
   "mimetype": "text/x-python",
   "name": "python",
   "nbconvert_exporter": "python",
   "pygments_lexer": "ipython3",
   "version": "3.8.6"
  }
 },
 "nbformat": 4,
 "nbformat_minor": 4
}
